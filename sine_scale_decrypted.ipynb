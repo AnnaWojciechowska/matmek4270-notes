{
 "cells": [
  {
   "cell_type": "code",
   "execution_count": 1,
   "id": "e4a7c744-49f9-43b0-a95f-4ccd0e506edb",
   "metadata": {},
   "outputs": [],
   "source": [
    "import numpy as np\n",
    "import sympy as sp\n",
    "import scipy.sparse as sparse\n",
    "from scipy.integrate import quad"
   ]
  },
  {
   "cell_type": "code",
   "execution_count": 44,
   "id": "e75410e0-d0f2-49a6-9ecc-a3dc996ff1bd",
   "metadata": {},
   "outputs": [
    {
     "name": "stdout",
     "output_type": "stream",
     "text": [
      "0 // 2 = 0\n",
      "1 // 2 = 0\n",
      "2 // 2 = 1\n",
      "3 // 2 = 1\n",
      "4 // 2 = 2\n"
     ]
    }
   ],
   "source": [
    "# integer division - czesc calkowita  z dzielenia\n",
    "for k in range(0,5):\n",
    "    print(f\"{k} // 2 = {(k // 2)}\")"
   ]
  },
  {
   "cell_type": "code",
   "execution_count": 47,
   "id": "c6cf842c-22a7-4ef0-805d-5db1c5be2215",
   "metadata": {},
   "outputs": [
    {
     "name": "stdout",
     "output_type": "stream",
     "text": [
      "(0 // 2)%2 = 0\n",
      "(1 // 2)%2 = 0\n",
      "(2 // 2)%2 = 1\n",
      "(3 // 2)%2 = 1\n",
      "(4 // 2)%2 = 0\n",
      "(5 // 2)%2 = 0\n",
      "(6 // 2)%2 = 1\n",
      "(7 // 2)%2 = 1\n",
      "(8 // 2)%2 = 0\n",
      "(9 // 2)%2 = 0\n",
      "(10 // 2)%2 = 1\n",
      "(11 // 2)%2 = 1\n"
     ]
    }
   ],
   "source": [
    "for k in range(0,12):\n",
    "    print(f\"({k} // 2)%2 = {(k // 2)%2}\")"
   ]
  },
  {
   "cell_type": "code",
   "execution_count": 49,
   "id": "bd357084-6e9c-46d7-a4a4-60eeb784f2f6",
   "metadata": {},
   "outputs": [
    {
     "name": "stdout",
     "output_type": "stream",
     "text": [
      "0 - 0\n",
      "1 - 0\n",
      "2 - 1\n",
      "3 - 1\n",
      "4 - 0\n",
      "5 - 0\n",
      "6 - 1\n",
      "7 - 1\n",
      "8 - 0\n",
      "9 - 0\n",
      "10 - 1\n",
      "11 - 1\n",
      "12 - 0\n",
      "13 - 0\n",
      "14 - 1\n"
     ]
    }
   ],
   "source": [
    "for k in range(0,15):\n",
    "    print(f\"{k} - {(k // 2)%2}\")"
   ]
  },
  {
   "cell_type": "code",
   "execution_count": 52,
   "id": "6b8a5c48-33db-4757-beef-96ac5b71db47",
   "metadata": {},
   "outputs": [
    {
     "data": {
      "text/plain": [
       "(1, -1)"
      ]
     },
     "execution_count": 52,
     "metadata": {},
     "output_type": "execute_result"
    }
   ],
   "source": [
    "dict_as_map = {0: 1, 1: -1}\n",
    "dict_as_map[0], dict_as_map[1]"
   ]
  }
 ],
 "metadata": {
  "kernelspec": {
   "display_name": "Python 3 (ipykernel)",
   "language": "python",
   "name": "python3"
  },
  "language_info": {
   "codemirror_mode": {
    "name": "ipython",
    "version": 3
   },
   "file_extension": ".py",
   "mimetype": "text/x-python",
   "name": "python",
   "nbconvert_exporter": "python",
   "pygments_lexer": "ipython3",
   "version": "3.10.12"
  }
 },
 "nbformat": 4,
 "nbformat_minor": 5
}
