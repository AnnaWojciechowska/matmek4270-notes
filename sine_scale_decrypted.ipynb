{
 "cells": [
  {
   "cell_type": "code",
   "execution_count": 1,
   "id": "e4a7c744-49f9-43b0-a95f-4ccd0e506edb",
   "metadata": {},
   "outputs": [],
   "source": [
    "import numpy as np\n",
    "import sympy as sp\n",
    "import scipy.sparse as sparse\n",
    "from scipy.integrate import quad"
   ]
  },
  {
   "cell_type": "code",
   "execution_count": 44,
   "id": "e75410e0-d0f2-49a6-9ecc-a3dc996ff1bd",
   "metadata": {},
   "outputs": [
    {
     "name": "stdout",
     "output_type": "stream",
     "text": [
      "0 // 2 = 0\n",
      "1 // 2 = 0\n",
      "2 // 2 = 1\n",
      "3 // 2 = 1\n",
      "4 // 2 = 2\n"
     ]
    }
   ],
   "source": [
    "# integer division - czesc calkowita  z dzielenia\n",
    "for k in range(0,5):\n",
    "    print(f\"{k} // 2 = {(k // 2)}\")"
   ]
  },
  {
   "cell_type": "code",
   "execution_count": 47,
   "id": "c6cf842c-22a7-4ef0-805d-5db1c5be2215",
   "metadata": {},
   "outputs": [
    {
     "name": "stdout",
     "output_type": "stream",
     "text": [
      "(0 // 2)%2 = 0\n",
      "(1 // 2)%2 = 0\n",
      "(2 // 2)%2 = 1\n",
      "(3 // 2)%2 = 1\n",
      "(4 // 2)%2 = 0\n",
      "(5 // 2)%2 = 0\n",
      "(6 // 2)%2 = 1\n",
      "(7 // 2)%2 = 1\n",
      "(8 // 2)%2 = 0\n",
      "(9 // 2)%2 = 0\n",
      "(10 // 2)%2 = 1\n",
      "(11 // 2)%2 = 1\n"
     ]
    }
   ],
   "source": [
    "for k in range(0,12):\n",
    "    print(f\"({k} // 2)%2 = {(k // 2)%2}\")"
   ]
  },
  {
   "cell_type": "code",
   "execution_count": 49,
   "id": "bd357084-6e9c-46d7-a4a4-60eeb784f2f6",
   "metadata": {},
   "outputs": [
    {
     "name": "stdout",
     "output_type": "stream",
     "text": [
      "0 - 0\n",
      "1 - 0\n",
      "2 - 1\n",
      "3 - 1\n",
      "4 - 0\n",
      "5 - 0\n",
      "6 - 1\n",
      "7 - 1\n",
      "8 - 0\n",
      "9 - 0\n",
      "10 - 1\n",
      "11 - 1\n",
      "12 - 0\n",
      "13 - 0\n",
      "14 - 1\n"
     ]
    }
   ],
   "source": [
    "for k in range(0,15):\n",
    "    print(f\"{k} - {(k // 2)%2}\")"
   ]
  },
  {
   "cell_type": "code",
   "execution_count": 55,
   "id": "0422df69-e07a-485e-9513-7cee2e9711e4",
   "metadata": {},
   "outputs": [
    {
     "data": {
      "text/plain": [
       "(1, -1)"
      ]
     },
     "execution_count": 55,
     "metadata": {},
     "output_type": "execute_result"
    }
   ],
   "source": [
    "dict_as_map = {0: 1, 1: -1}\n",
    "dict_as_map[0], dict_as_map[1]"
   ]
  },
  {
   "cell_type": "code",
   "execution_count": 57,
   "id": "94acaf0f-fd70-43a8-8a83-15ad12bd3482",
   "metadata": {},
   "outputs": [
    {
     "name": "stdout",
     "output_type": "stream",
     "text": [
      "0 : +\n",
      "1 : +\n",
      "2 : -\n",
      "3 : -\n",
      "4 : +\n",
      "5 : +\n",
      "6 : -\n",
      "7 : -\n",
      "8 : +\n",
      "9 : +\n",
      "10 : -\n",
      "11 : -\n",
      "12 : +\n",
      "13 : +\n",
      "14 : -\n"
     ]
    }
   ],
   "source": [
    "#sing values:\n",
    "sign_map = {0: '+', 1: '-'}\n",
    "for k in range(0,15):\n",
    "    print(f\"{k} : {sign_map[(k // 2)%2]}\")"
   ]
  },
  {
   "cell_type": "code",
   "execution_count": 52,
   "id": "6b8a5c48-33db-4757-beef-96ac5b71db47",
   "metadata": {},
   "outputs": [
    {
     "data": {
      "text/plain": [
       "(1, -1)"
      ]
     },
     "execution_count": 52,
     "metadata": {},
     "output_type": "execute_result"
    }
   ],
   "source": [
    "dict_as_map = {0: 1, 1: -1}\n",
    "dict_as_map[0], dict_as_map[1]"
   ]
  },
  {
   "cell_type": "code",
   "execution_count": 61,
   "id": "78927b84-c501-43a5-a682-e674c423ead8",
   "metadata": {},
   "outputs": [
    {
     "name": "stdout",
     "output_type": "stream",
     "text": [
      "0 - 0\n",
      "1 - 0\n",
      "2 - 1\n",
      "3 - 1\n",
      "4 - 0\n",
      "5 - 0\n",
      "6 - 1\n",
      "7 - 1\n",
      "8 - 0\n",
      "9 - 0\n",
      "10 - 1\n",
      "11 - 1\n",
      "12 - 0\n",
      "13 - 0\n",
      "14 - 1\n"
     ]
    }
   ],
   "source": [
    "for k in range(0,15):\n",
    "    print(f\"{k} - {(k // 2)%2}\")"
   ]
  },
  {
   "cell_type": "code",
   "execution_count": 63,
   "id": "ead5ba6e-f516-4b4e-a91d-602f6afa18f2",
   "metadata": {},
   "outputs": [
    {
     "name": "stdout",
     "output_type": "stream",
     "text": [
      "0 - 0\n",
      "1 - 1\n",
      "2 - 1\n",
      "3 - 0\n",
      "4 - 0\n",
      "5 - 1\n",
      "6 - 1\n",
      "7 - 0\n",
      "8 - 0\n",
      "9 - 1\n",
      "10 - 1\n",
      "11 - 0\n"
     ]
    }
   ],
   "source": [
    "for k in range(0,12):\n",
    "     print(f\"{k} - {( (k+1) // 2)%2}\")"
   ]
  },
  {
   "cell_type": "code",
   "execution_count": 67,
   "id": "be568494-d1e6-4bb3-b3b2-8cfdb19eda76",
   "metadata": {},
   "outputs": [
    {
     "name": "stdout",
     "output_type": "stream",
     "text": [
      "0 : +\n",
      "1 : -\n",
      "2 : -\n",
      "3 : +\n",
      "4 : +\n",
      "5 : -\n",
      "6 : -\n",
      "7 : +\n",
      "8 : +\n",
      "9 : -\n",
      "10 : -\n",
      "11 : +\n",
      "12 : +\n",
      "13 : -\n",
      "14 : -\n"
     ]
    }
   ],
   "source": [
    "sign_map = {0: '+', 1: '-'}\n",
    "for k in range(0,15):\n",
    "    print(f\"{k} : {sign_map[((k+1)//2)%2]}\")"
   ]
  },
  {
   "cell_type": "code",
   "execution_count": 73,
   "id": "2a154857-6383-4b4a-a7a2-cc1479d000c9",
   "metadata": {},
   "outputs": [
    {
     "data": {
      "text/plain": [
       "array([1. , 0.5, 0.5, 0.5])"
      ]
     },
     "execution_count": 73,
     "metadata": {},
     "output_type": "execute_result"
    }
   ],
   "source": [
    "N = 3\n",
    "l2_norm = np.full(N+1, 0.5)\n",
    "l2_norm[0] = 1\n",
    "l2_norm"
   ]
  }
 ],
 "metadata": {
  "kernelspec": {
   "display_name": "Python 3 (ipykernel)",
   "language": "python",
   "name": "python3"
  },
  "language_info": {
   "codemirror_mode": {
    "name": "ipython",
    "version": 3
   },
   "file_extension": ".py",
   "mimetype": "text/x-python",
   "name": "python",
   "nbconvert_exporter": "python",
   "pygments_lexer": "ipython3",
   "version": "3.10.12"
  }
 },
 "nbformat": 4,
 "nbformat_minor": 5
}
