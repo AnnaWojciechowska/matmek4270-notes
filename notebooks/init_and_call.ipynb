{
 "cells": [
  {
   "cell_type": "code",
   "execution_count": null,
   "id": "58f83517",
   "metadata": {},
   "outputs": [],
   "source": []
  },
  {
   "cell_type": "code",
   "execution_count": 1,
   "id": "c30bce4d",
   "metadata": {},
   "outputs": [],
   "source": [
    "class Wave:\n",
    "    def __init__(self, n):\n",
    "        print(\"now we are inside wave class\")\n",
    "        print(\"init callled\", n)\n",
    "        self.n = n\n",
    "    def __call__(self, value):\n",
    "        print(self.n, \"+\", value)\n",
    "        print(\"call called\",self.n + value )\n",
    "    "
   ]
  },
  {
   "cell_type": "code",
   "execution_count": 2,
   "id": "b99d2db0",
   "metadata": {},
   "outputs": [
    {
     "name": "stdout",
     "output_type": "stream",
     "text": [
      "now we are inside wave class\n",
      "init callled 4\n"
     ]
    },
    {
     "data": {
      "text/plain": [
       "<__main__.Wave at 0x7f00916e20e0>"
      ]
     },
     "execution_count": 2,
     "metadata": {},
     "output_type": "execute_result"
    }
   ],
   "source": [
    "#creating anonymour object\n",
    "Wave(4)"
   ]
  },
  {
   "cell_type": "code",
   "execution_count": 3,
   "id": "e94248f6",
   "metadata": {},
   "outputs": [
    {
     "name": "stdout",
     "output_type": "stream",
     "text": [
      "now we are inside wave class\n",
      "init callled 3\n"
     ]
    }
   ],
   "source": [
    "#creating object of type class Wave\n",
    "wave_obj_3 = Wave(3)"
   ]
  },
  {
   "cell_type": "code",
   "execution_count": 4,
   "id": "5482eeec",
   "metadata": {},
   "outputs": [
    {
     "name": "stdout",
     "output_type": "stream",
     "text": [
      "now we are inside wave class\n",
      "init callled 2\n",
      "2 + 2\n",
      "call called 4\n"
     ]
    }
   ],
   "source": [
    "Wave(2)(2)"
   ]
  },
  {
   "cell_type": "code",
   "execution_count": 5,
   "id": "41f92b23",
   "metadata": {},
   "outputs": [],
   "source": [
    "def fun1(wave_something):\n",
    "    print(\"now we are inside fun1\")\n",
    "    wave_something(1)"
   ]
  },
  {
   "cell_type": "code",
   "execution_count": 6,
   "id": "4dbf617d",
   "metadata": {},
   "outputs": [
    {
     "name": "stdout",
     "output_type": "stream",
     "text": [
      "now we are inside fun1\n",
      "3 + 1\n",
      "call called 4\n"
     ]
    }
   ],
   "source": [
    "fun1(wave_obj_3)"
   ]
  },
  {
   "cell_type": "code",
   "execution_count": 7,
   "id": "295d371a",
   "metadata": {},
   "outputs": [
    {
     "name": "stdout",
     "output_type": "stream",
     "text": [
      "now we are inside wave class\n",
      "init callled 3\n",
      "now we are inside fun1\n",
      "3 + 1\n",
      "call called 4\n"
     ]
    }
   ],
   "source": [
    "# function call with anonymous object of type class Wave\n",
    "fun1(Wave(3))"
   ]
  },
  {
   "cell_type": "code",
   "execution_count": 8,
   "id": "47fde15e",
   "metadata": {},
   "outputs": [],
   "source": [
    "# addiing a function to a class:\n",
    "class Wave:\n",
    "    def __init__(self, n):\n",
    "        print(\"now we are inside wave class\")\n",
    "        print(\"init callled\", n)\n",
    "        self.n = n\n",
    "    def __call__(self):\n",
    "        print(\"call called\",self.n )\n",
    "    def member_function(self):\n",
    "        print(\"member_function\",self.n)\n",
    "    "
   ]
  },
  {
   "cell_type": "code",
   "execution_count": 9,
   "id": "d8415e41",
   "metadata": {},
   "outputs": [
    {
     "name": "stdout",
     "output_type": "stream",
     "text": [
      "now we are inside wave class\n",
      "init callled 5\n",
      "member_function 5\n"
     ]
    }
   ],
   "source": [
    "wave_obj_5 = Wave(5)\n",
    "wave_obj_5.member_function()"
   ]
  },
  {
   "cell_type": "code",
   "execution_count": 10,
   "id": "57fe738e",
   "metadata": {},
   "outputs": [],
   "source": [
    "# this part is a bit tricky  - for sure you have noticed:\n",
    "#u = self(N0) in def convergence_rates(self, m=6)\n",
    "\n"
   ]
  },
  {
   "cell_type": "code",
   "execution_count": 11,
   "id": "d7f801b8",
   "metadata": {},
   "outputs": [],
   "source": [
    "class Wave:\n",
    "    def __init__(self, n):\n",
    "        print(\"now we are inside wave class\")\n",
    "        print(\"init callled\", n)\n",
    "        self.n = n\n",
    "    def __call__(self, value):\n",
    "        print(self.n, \"+\", value)\n",
    "        print(\"call called\",self.n + value )\n",
    "    def function1(self):\n",
    "        # similar to what Mikael does in #u = self(N0) in def convergence_rates(self, m=6)\n",
    "        N0 = 1\n",
    "        # here we are actually calling __call__\n",
    "        self(N0)"
   ]
  },
  {
   "cell_type": "code",
   "execution_count": 12,
   "id": "d5b4cf54",
   "metadata": {},
   "outputs": [
    {
     "name": "stdout",
     "output_type": "stream",
     "text": [
      "now we are inside wave class\n",
      "init callled 6\n",
      "6 + 1\n",
      "call called 7\n"
     ]
    }
   ],
   "source": [
    "wave_obj_6 = Wave(6)\n",
    "wave_obj_6.function1()"
   ]
  },
  {
   "cell_type": "code",
   "execution_count": 13,
   "id": "0ec37fe3",
   "metadata": {},
   "outputs": [],
   "source": [
    "#THIS PART IS BEYING WHAT WAS AT THE COURSE SO FAR, BUT it is for you to be aware:\n",
    "# I added another function\n",
    "# note what happens if you do not add \"self\" in the fuction argument list:\n",
    "class Wave:\n",
    "    def __init__(self, n):\n",
    "        print(\"now we are inside wave class\")\n",
    "        print(\"init callled\", n)\n",
    "        self.n = n\n",
    "    def __call__(self):\n",
    "        print(\"call called\",self.n )\n",
    "    def member_function(self):\n",
    "        print(\"member_function\",self.n)\n",
    "    # note no \"self\" inside function argument list!\n",
    "    def static_function():\n",
    "        print(\"internal fuction to a class Wave\")"
   ]
  },
  {
   "cell_type": "code",
   "execution_count": 14,
   "id": "6f0c9a03",
   "metadata": {},
   "outputs": [
    {
     "name": "stdout",
     "output_type": "stream",
     "text": [
      "now we are inside wave class\n",
      "init callled 6\n"
     ]
    },
    {
     "ename": "TypeError",
     "evalue": "Wave.static_function() takes 0 positional arguments but 1 was given",
     "output_type": "error",
     "traceback": [
      "\u001b[0;31m---------------------------------------------------------------------------\u001b[0m",
      "\u001b[0;31mTypeError\u001b[0m                                 Traceback (most recent call last)",
      "Cell \u001b[0;32mIn[14], line 2\u001b[0m\n\u001b[1;32m      1\u001b[0m wave_obj_6 \u001b[38;5;241m=\u001b[39m Wave(\u001b[38;5;241m6\u001b[39m)\n\u001b[0;32m----> 2\u001b[0m \u001b[43mwave_obj_6\u001b[49m\u001b[38;5;241;43m.\u001b[39;49m\u001b[43mstatic_function\u001b[49m\u001b[43m(\u001b[49m\u001b[43m)\u001b[49m\n",
      "\u001b[0;31mTypeError\u001b[0m: Wave.static_function() takes 0 positional arguments but 1 was given"
     ]
    }
   ],
   "source": [
    "wave_obj_6 = Wave(6)\n",
    "wave_obj_6.static_function()"
   ]
  },
  {
   "cell_type": "code",
   "execution_count": 15,
   "id": "fac41d73",
   "metadata": {},
   "outputs": [
    {
     "ename": "NameError",
     "evalue": "name 'static_function' is not defined",
     "output_type": "error",
     "traceback": [
      "\u001b[0;31m---------------------------------------------------------------------------\u001b[0m",
      "\u001b[0;31mNameError\u001b[0m                                 Traceback (most recent call last)",
      "Cell \u001b[0;32mIn[15], line 2\u001b[0m\n\u001b[1;32m      1\u001b[0m \u001b[38;5;66;03m# I can also try:\u001b[39;00m\n\u001b[0;32m----> 2\u001b[0m \u001b[43mstatic_function\u001b[49m()\n",
      "\u001b[0;31mNameError\u001b[0m: name 'static_function' is not defined"
     ]
    }
   ],
   "source": [
    "# I can also try:\n",
    "static_function()"
   ]
  },
  {
   "cell_type": "code",
   "execution_count": 16,
   "id": "706ccc65",
   "metadata": {},
   "outputs": [],
   "source": [
    "# I can however\n",
    "class Wave:\n",
    "    def __init__(self, n):\n",
    "        print(\"now we are inside wave class\")\n",
    "        print(\"init callled\", n)\n",
    "        self.n = n\n",
    "    def __call__(self):\n",
    "        print(\"call called\",self.n )\n",
    "    def member_function(self):\n",
    "        print(\"member_function\",self.n)\n",
    "        #inside member function i call internal function:\n",
    "        internal_function()\n",
    "        \n",
    "    # this is out of scope of the course\n",
    "    # some fuctions are static \n",
    "    # this is only here for you that the \"self\" key word is impornat\n",
    "    def static_function():\n",
    "        print(\"static fuction to a class Wave\")"
   ]
  },
  {
   "cell_type": "code",
   "execution_count": 18,
   "id": "3b03a394",
   "metadata": {},
   "outputs": [
    {
     "name": "stdout",
     "output_type": "stream",
     "text": [
      "static fuction to a class Wave\n"
     ]
    }
   ],
   "source": [
    "Wave.static_function()"
   ]
  },
  {
   "cell_type": "code",
   "execution_count": null,
   "id": "634d328d",
   "metadata": {},
   "outputs": [],
   "source": []
  }
 ],
 "metadata": {
  "kernelspec": {
   "display_name": "Python 3 (ipykernel)",
   "language": "python",
   "name": "python3"
  },
  "language_info": {
   "codemirror_mode": {
    "name": "ipython",
    "version": 3
   },
   "file_extension": ".py",
   "mimetype": "text/x-python",
   "name": "python",
   "nbconvert_exporter": "python",
   "pygments_lexer": "ipython3",
   "version": "3.10.12"
  }
 },
 "nbformat": 4,
 "nbformat_minor": 5
}
