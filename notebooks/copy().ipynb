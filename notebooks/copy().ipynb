{
 "cells": [
  {
   "cell_type": "code",
   "execution_count": 2,
   "id": "538c1da6",
   "metadata": {},
   "outputs": [],
   "source": [
    "# this part is super tricky, many many hours can be lost on searching errors if people are not aware of \n",
    "#shallow vs deep copy"
   ]
  },
  {
   "cell_type": "code",
   "execution_count": 3,
   "id": "74ec0aa0",
   "metadata": {},
   "outputs": [
    {
     "data": {
      "text/plain": [
       "(2, 2)"
      ]
     },
     "execution_count": 3,
     "metadata": {},
     "output_type": "execute_result"
    }
   ],
   "source": [
    "#what you know so far:\n",
    "a = 2\n",
    "# = is \"assignment operator\", you already know it is NOT equal, and it works from left to righ,\n",
    "# so b how now, value of a\n",
    "b = a\n",
    "#lets check\n",
    "a, b"
   ]
  },
  {
   "cell_type": "code",
   "execution_count": 4,
   "id": "440d7665",
   "metadata": {},
   "outputs": [
    {
     "data": {
      "text/plain": [
       "3"
      ]
     },
     "execution_count": 4,
     "metadata": {},
     "output_type": "execute_result"
    }
   ],
   "source": [
    "# now i modify a:\n",
    "a += 1\n",
    "a"
   ]
  },
  {
   "cell_type": "code",
   "execution_count": 5,
   "id": "048a4fbf",
   "metadata": {},
   "outputs": [
    {
     "data": {
      "text/plain": [
       "2"
      ]
     },
     "execution_count": 5,
     "metadata": {},
     "output_type": "execute_result"
    }
   ],
   "source": [
    "# will b change? or be same? Let's check:\n",
    "b"
   ]
  },
  {
   "cell_type": "code",
   "execution_count": 6,
   "id": "8a24469b",
   "metadata": {},
   "outputs": [
    {
     "data": {
      "text/plain": [
       "(140104539570480, 140104539570448)"
      ]
     },
     "execution_count": 6,
     "metadata": {},
     "output_type": "execute_result"
    }
   ],
   "source": [
    "# b did not change because assignment operator = between int types so:\n",
    "#(int) = (int) makes  DEEP COPY\n",
    "# lets check one more thing:\n",
    "id(a), id(b)"
   ]
  },
  {
   "cell_type": "code",
   "execution_count": null,
   "id": "75c5a709",
   "metadata": {},
   "outputs": [],
   "source": [
    "#as you can see both a and b are DIFFFERNT OBJECTS (of type int)"
   ]
  },
  {
   "cell_type": "code",
   "execution_count": null,
   "id": "a43cb4ee",
   "metadata": {},
   "outputs": [],
   "source": [
    "#now things got different if we deal with matrices:"
   ]
  },
  {
   "cell_type": "code",
   "execution_count": 9,
   "id": "dafeb4c4",
   "metadata": {},
   "outputs": [
    {
     "data": {
      "text/plain": [
       "array([[1., 1.],\n",
       "       [1., 1.]])"
      ]
     },
     "execution_count": 9,
     "metadata": {},
     "output_type": "execute_result"
    }
   ],
   "source": [
    "import numpy as np\n",
    "a_matrix = np.ones((2, 2))\n",
    "a_matrix"
   ]
  },
  {
   "cell_type": "code",
   "execution_count": 10,
   "id": "e793f16f",
   "metadata": {},
   "outputs": [
    {
     "data": {
      "text/plain": [
       "numpy.ndarray"
      ]
     },
     "execution_count": 10,
     "metadata": {},
     "output_type": "execute_result"
    }
   ],
   "source": [
    "type(a_matrix)"
   ]
  },
  {
   "cell_type": "code",
   "execution_count": 12,
   "id": "f19d7615",
   "metadata": {},
   "outputs": [],
   "source": [
    "# now we assign value of a_matrix to b_matrix \n",
    "# note it is different because we have different types:\n",
    "# numpy.ndarray = numpy.ndarray w assign between numpy array, still from left to right <-\n",
    "b_matrix = a_matrix"
   ]
  },
  {
   "cell_type": "code",
   "execution_count": 14,
   "id": "9e74c3ca",
   "metadata": {},
   "outputs": [
    {
     "data": {
      "text/plain": [
       "(140103849556080, 140103849556080)"
      ]
     },
     "execution_count": 14,
     "metadata": {},
     "output_type": "execute_result"
    }
   ],
   "source": [
    "# now, lets check something:\n",
    "id(b_matrix), id(a_matrix)"
   ]
  },
  {
   "cell_type": "code",
   "execution_count": null,
   "id": "cf8f817c",
   "metadata": {},
   "outputs": [],
   "source": [
    "# did you noticed id are same.... ? (compare to same thing we did with int)"
   ]
  },
  {
   "cell_type": "code",
   "execution_count": 17,
   "id": "0f8d1f1e",
   "metadata": {},
   "outputs": [
    {
     "data": {
      "text/plain": [
       "array([[0., 1.],\n",
       "       [1., 1.]])"
      ]
     },
     "execution_count": 17,
     "metadata": {},
     "output_type": "execute_result"
    }
   ],
   "source": [
    "#now, lets modify a\n",
    "a_matrix[0,0] = 0\n",
    "a_matrix"
   ]
  },
  {
   "cell_type": "code",
   "execution_count": 18,
   "id": "663fce1c",
   "metadata": {},
   "outputs": [
    {
     "data": {
      "text/plain": [
       "array([[0., 1.],\n",
       "       [1., 1.]])"
      ]
     },
     "execution_count": 18,
     "metadata": {},
     "output_type": "execute_result"
    }
   ],
   "source": [
    "# lets check b:\n",
    "b_matrix"
   ]
  },
  {
   "cell_type": "code",
   "execution_count": null,
   "id": "27dc98b5",
   "metadata": {},
   "outputs": [],
   "source": [
    "# b_matrix has changed tooo! its because this = assignment operator works different between big types like ndarray\n",
    "# it actually makes a \"shallow copy\", so it only copies reference!"
   ]
  },
  {
   "cell_type": "code",
   "execution_count": 20,
   "id": "6ebb5927",
   "metadata": {},
   "outputs": [
    {
     "data": {
      "text/plain": [
       "array([[0., 1.],\n",
       "       [1., 1.]])"
      ]
     },
     "execution_count": 20,
     "metadata": {},
     "output_type": "execute_result"
    }
   ],
   "source": [
    "# now lets do something more:\n",
    "c_matrix = a_matrix.copy()\n",
    "c_matrix"
   ]
  },
  {
   "cell_type": "code",
   "execution_count": 21,
   "id": "bd3cbd73",
   "metadata": {},
   "outputs": [
    {
     "data": {
      "text/plain": [
       "(140103849829808, 140103849556080)"
      ]
     },
     "execution_count": 21,
     "metadata": {},
     "output_type": "execute_result"
    }
   ],
   "source": [
    "# c_matrix still looks like a_matrix, lets compare references:\n",
    "id(c_matrix), id(a_matrix)"
   ]
  },
  {
   "cell_type": "code",
   "execution_count": 22,
   "id": "024e91e4",
   "metadata": {},
   "outputs": [
    {
     "data": {
      "text/plain": [
       "array([[13.,  1.],\n",
       "       [ 1.,  1.]])"
      ]
     },
     "execution_count": 22,
     "metadata": {},
     "output_type": "execute_result"
    }
   ],
   "source": [
    "# probably you noticed references are different...\n",
    "# now, lets modify a matrix\n",
    "a_matrix[0,0] = 13\n",
    "a_matrix"
   ]
  },
  {
   "cell_type": "code",
   "execution_count": null,
   "id": "f13b3f9f",
   "metadata": {},
   "outputs": [],
   "source": [
    "# guess what will be value of c_matrix\n",
    "c_matrix"
   ]
  },
  {
   "cell_type": "code",
   "execution_count": 23,
   "id": "215d3569",
   "metadata": {},
   "outputs": [
    {
     "data": {
      "text/plain": [
       "array([[0., 1.],\n",
       "       [1., 1.]])"
      ]
     },
     "execution_count": 23,
     "metadata": {},
     "output_type": "execute_result"
    }
   ],
   "source": [
    "# yes, c_matrix will not change, becasue we did a deep copy, so new object was created, and all values from\n",
    "# a_matrix were copied, not just reference like in case of b_matrix"
   ]
  }
 ],
 "metadata": {
  "kernelspec": {
   "display_name": "Python 3 (ipykernel)",
   "language": "python",
   "name": "python3"
  },
  "language_info": {
   "codemirror_mode": {
    "name": "ipython",
    "version": 3
   },
   "file_extension": ".py",
   "mimetype": "text/x-python",
   "name": "python",
   "nbconvert_exporter": "python",
   "pygments_lexer": "ipython3",
   "version": "3.10.12"
  }
 },
 "nbformat": 4,
 "nbformat_minor": 5
}
