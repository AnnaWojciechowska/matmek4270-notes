{
 "cells": [
  {
   "cell_type": "code",
   "execution_count": 2,
   "id": "ae2383aa",
   "metadata": {},
   "outputs": [],
   "source": [
    "# this part is super tricky, many many hours can be lost on searching errors if people are not aware of \n",
    "#shallow vs deep copy"
   ]
  },
  {
   "cell_type": "code",
   "execution_count": 3,
   "id": "1dcf4f8e",
   "metadata": {},
   "outputs": [
    {
     "data": {
      "text/plain": [
       "(2, 2)"
      ]
     },
     "execution_count": 3,
     "metadata": {},
     "output_type": "execute_result"
    }
   ],
   "source": [
    "#what you know so far:\n",
    "a = 2\n",
    "# = is \"assignment operator\", you already know it is NOT equal, and it works from left to righ,\n",
    "#  b has now  value of a\n",
    "b = a\n",
    "#lets check\n",
    "a, b"
   ]
  },
  {
   "cell_type": "code",
   "execution_count": 4,
   "id": "9a4ba0c9",
   "metadata": {},
   "outputs": [
    {
     "data": {
      "text/plain": [
       "3"
      ]
     },
     "execution_count": 4,
     "metadata": {},
     "output_type": "execute_result"
    }
   ],
   "source": [
    "# now i modify a:\n",
    "a += 1\n",
    "a"
   ]
  },
  {
   "cell_type": "code",
   "execution_count": 5,
   "id": "dd06cec5",
   "metadata": {},
   "outputs": [
    {
     "data": {
      "text/plain": [
       "2"
      ]
     },
     "execution_count": 5,
     "metadata": {},
     "output_type": "execute_result"
    }
   ],
   "source": [
    "# will b change? or be same? Let's check:\n",
    "b"
   ]
  },
  {
   "cell_type": "code",
   "execution_count": 6,
   "id": "749f7440",
   "metadata": {},
   "outputs": [
    {
     "data": {
      "text/plain": [
       "(140104539570480, 140104539570448)"
      ]
     },
     "execution_count": 6,
     "metadata": {},
     "output_type": "execute_result"
    }
   ],
   "source": [
    "# b did not change because assignment operator = between int types:\n",
    "#(int) = (int) makes  DEEP COPY\n",
    "# lets check one more thing:\n",
    "id(a), id(b)"
   ]
  },
  {
   "cell_type": "code",
   "execution_count": null,
   "id": "74b0c58e",
   "metadata": {},
   "outputs": [],
   "source": [
    "#as you can see both a and b are DIFFFERNT OBJECTS (of type int) with different referces"
   ]
  },
  {
   "cell_type": "code",
   "execution_count": null,
   "id": "26b35f63",
   "metadata": {},
   "outputs": [],
   "source": [
    "#now things got different if we deal with matrices:"
   ]
  },
  {
   "cell_type": "code",
   "execution_count": 9,
   "id": "9b79fc2d",
   "metadata": {},
   "outputs": [
    {
     "data": {
      "text/plain": [
       "array([[1., 1.],\n",
       "       [1., 1.]])"
      ]
     },
     "execution_count": 9,
     "metadata": {},
     "output_type": "execute_result"
    }
   ],
   "source": [
    "import numpy as np\n",
    "a_matrix = np.ones((2, 2))\n",
    "a_matrix"
   ]
  },
  {
   "cell_type": "code",
   "execution_count": 10,
   "id": "39441128",
   "metadata": {},
   "outputs": [
    {
     "data": {
      "text/plain": [
       "numpy.ndarray"
      ]
     },
     "execution_count": 10,
     "metadata": {},
     "output_type": "execute_result"
    }
   ],
   "source": [
    "type(a_matrix)"
   ]
  },
  {
   "cell_type": "code",
   "execution_count": 12,
   "id": "40a1e029",
   "metadata": {},
   "outputs": [],
   "source": [
    "# now we assign value of a_matrix to b_matrix \n",
    "# note it is different because we have different types:\n",
    "# numpy.ndarray = numpy.ndarray we assign between numpy array, still from left to right <-\n",
    "b_matrix = a_matrix"
   ]
  },
  {
   "cell_type": "code",
   "execution_count": 14,
   "id": "9bc7c058",
   "metadata": {},
   "outputs": [
    {
     "data": {
      "text/plain": [
       "(140103849556080, 140103849556080)"
      ]
     },
     "execution_count": 14,
     "metadata": {},
     "output_type": "execute_result"
    }
   ],
   "source": [
    "# now, lets check something:\n",
    "id(b_matrix), id(a_matrix)"
   ]
  },
  {
   "cell_type": "code",
   "execution_count": null,
   "id": "2b7546cc",
   "metadata": {},
   "outputs": [],
   "source": [
    "# did you noticed id are same.... ? (compare to same thing we did with int)"
   ]
  },
  {
   "cell_type": "code",
   "execution_count": 17,
   "id": "ce8934e3",
   "metadata": {},
   "outputs": [
    {
     "data": {
      "text/plain": [
       "array([[0., 1.],\n",
       "       [1., 1.]])"
      ]
     },
     "execution_count": 17,
     "metadata": {},
     "output_type": "execute_result"
    }
   ],
   "source": [
    "#now, lets modify a\n",
    "a_matrix[0,0] = 0\n",
    "a_matrix"
   ]
  },
  {
   "cell_type": "code",
   "execution_count": 18,
   "id": "6f848d67",
   "metadata": {},
   "outputs": [
    {
     "data": {
      "text/plain": [
       "array([[0., 1.],\n",
       "       [1., 1.]])"
      ]
     },
     "execution_count": 18,
     "metadata": {},
     "output_type": "execute_result"
    }
   ],
   "source": [
    "# lets check b:\n",
    "b_matrix"
   ]
  },
  {
   "cell_type": "code",
   "execution_count": null,
   "id": "3b7e0fa1",
   "metadata": {},
   "outputs": [],
   "source": [
    "# b_matrix has changed tooo! its because this = assignment operator works different between big types like ndarray\n",
    "# it actually makes a \"shallow copy\", so it only copies reference!"
   ]
  },
  {
   "cell_type": "code",
   "execution_count": 20,
   "id": "258011a0",
   "metadata": {},
   "outputs": [
    {
     "data": {
      "text/plain": [
       "array([[0., 1.],\n",
       "       [1., 1.]])"
      ]
     },
     "execution_count": 20,
     "metadata": {},
     "output_type": "execute_result"
    }
   ],
   "source": [
    "# now lets do something more:\n",
    "c_matrix = a_matrix.copy()\n",
    "c_matrix"
   ]
  },
  {
   "cell_type": "code",
   "execution_count": 21,
   "id": "1045c1d1",
   "metadata": {},
   "outputs": [
    {
     "data": {
      "text/plain": [
       "(140103849829808, 140103849556080)"
      ]
     },
     "execution_count": 21,
     "metadata": {},
     "output_type": "execute_result"
    }
   ],
   "source": [
    "# c_matrix still looks like a_matrix, lets compare references:\n",
    "id(c_matrix), id(a_matrix)"
   ]
  },
  {
   "cell_type": "code",
   "execution_count": 22,
   "id": "e0776815",
   "metadata": {},
   "outputs": [
    {
     "data": {
      "text/plain": [
       "array([[13.,  1.],\n",
       "       [ 1.,  1.]])"
      ]
     },
     "execution_count": 22,
     "metadata": {},
     "output_type": "execute_result"
    }
   ],
   "source": [
    "# probably you noticed references are different...\n",
    "# now, lets modify a matrix\n",
    "a_matrix[0,0] = 13\n",
    "a_matrix"
   ]
  },
  {
   "cell_type": "code",
   "execution_count": null,
   "id": "59bb3707",
   "metadata": {},
   "outputs": [],
   "source": [
    "# guess what will be value of c_matrix\n",
    "c_matrix"
   ]
  },
  {
   "cell_type": "code",
   "execution_count": 23,
   "id": "7c64ddcf",
   "metadata": {},
   "outputs": [
    {
     "data": {
      "text/plain": [
       "array([[0., 1.],\n",
       "       [1., 1.]])"
      ]
     },
     "execution_count": 23,
     "metadata": {},
     "output_type": "execute_result"
    }
   ],
   "source": [
    "# yes, c_matrix will not change, because we did a deep copy, so new object was created, and all values from\n",
    "# a_matrix were copied, not just reference like in case of b_matrix"
   ]
  }
 ],
 "metadata": {
  "kernelspec": {
   "display_name": "Python 3 (ipykernel)",
   "language": "python",
   "name": "python3"
  },
  "language_info": {
   "codemirror_mode": {
    "name": "ipython",
    "version": 3
   },
   "file_extension": ".py",
   "mimetype": "text/x-python",
   "name": "python",
   "nbconvert_exporter": "python",
   "pygments_lexer": "ipython3",
   "version": "3.10.12"
  }
 },
 "nbformat": 4,
 "nbformat_minor": 5
}
