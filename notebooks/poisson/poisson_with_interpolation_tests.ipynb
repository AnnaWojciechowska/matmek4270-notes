{
 "cells": [
  {
   "cell_type": "code",
   "execution_count": 1,
   "id": "73e504ab",
   "metadata": {},
   "outputs": [],
   "source": [
    "import numpy as np\n",
    "import scipy.sparse as sparse\n",
    "import matplotlib.pyplot as plt\n",
    "import sympy as sp\n",
    "from scipy.interpolate import RegularGridInterpolator\n",
    "\n",
    "x, y = sp.symbols('x,y')\n",
    "ue = x*(1-x)*y*(1-y)*sp.exp(sp.cos(4*sp.pi*x)*sp.sin(2*sp.pi*y))\n",
    "f = ue.diff(x, 2) + ue.diff(y, 2)"
   ]
  },
  {
   "cell_type": "code",
   "execution_count": 2,
   "id": "ffcfe941",
   "metadata": {},
   "outputs": [
    {
     "data": {
      "text/plain": [
       "(101, 101)"
      ]
     },
     "execution_count": 2,
     "metadata": {},
     "output_type": "execute_result"
    }
   ],
   "source": [
    "#copied fom lecture 6\n",
    "def D2(N):\n",
    "    D = sparse.diags([1, -2, 1], [-1, 0, 1], (N+1, N+1), 'lil')\n",
    "    D[0, :4] = 2, -5, 4, -1\n",
    "    D[-1, -4:] = -1, 4, -5, 2\n",
    "    return D\n",
    "def laplace(dx, dy, N):\n",
    "    D2x = (1./dx**2)*D2(N)\n",
    "    D2y = (1./dy**2)*D2(N)\n",
    "    return (sparse.kron(D2x, sparse.eye(N+1)) + \n",
    "            sparse.kron(sparse.eye(N+1), D2y))\n",
    "def mesh2D(N,L):\n",
    "    x = np.linspace(0, L, N+1)\n",
    "    y = np.linspace(0, L, N+1)\n",
    "    return np.meshgrid(x, y, indexing='ij')\n",
    "N = 100\n",
    "L = 1\n",
    "xij, yij = mesh2D(N,L)\n",
    "F = sp.lambdify((x, y), f)(xij, yij)\n",
    "A = laplace(L/N,L/N, N)\n",
    "B = np.ones((N+1, N+1), dtype=bool)\n",
    "B[1:-1, 1:-1] = 0\n",
    "bnds = np.where(B.ravel() == 1)[0]\n",
    "A = A.tolil()\n",
    "for i in bnds:\n",
    "    A[i] = 0\n",
    "    A[i, i] = 1\n",
    "A = A.tocsr()\n",
    "b = F.ravel()\n",
    "b[bnds] = 0\n",
    "U = sparse.linalg.spsolve(A, b)\n",
    "U = np.reshape(U, (N+1, N+1))\n",
    "U.shape"
   ]
  },
  {
   "cell_type": "code",
   "execution_count": 3,
   "id": "b6fdac4f",
   "metadata": {},
   "outputs": [],
   "source": [
    "def eval(x_arg, y_arg):\n",
    "    x_indices = np.linspace(0, L, N+1)\n",
    "    y_indices = np.linspace(0, L, N+1)\n",
    "    interpolator = RegularGridInterpolator((x_indices, y_indices), U, method='linear', bounds_error=False, fill_value=None)\n",
    "    interpolated_value = interpolator((x_arg, y_arg))\n",
    "    return interpolated_value"
   ]
  },
  {
   "cell_type": "code",
   "execution_count": 4,
   "id": "3ba006f2",
   "metadata": {},
   "outputs": [
    {
     "data": {
      "text/plain": [
       "array(0.02869633)"
      ]
     },
     "execution_count": 4,
     "metadata": {},
     "output_type": "execute_result"
    },
    {
     "data": {
      "image/png": "[encoded data removed]",
      "text/plain": [
       "<Figure size 640x480 with 2 Axes>"
      ]
     },
     "metadata": {},
     "output_type": "display_data"
    }
   ],
   "source": [
    "test_x = 0.5\n",
    "test_y=0.6\n",
    "test_x = 0.52\n",
    "test_y=0.63\n",
    "#print(sol.eval(0.52, 0.63))\n",
    "plt.contourf(xij, yij, U);\n",
    "plt.colorbar()\n",
    "plt.scatter(test_x, test_y, color='red', label='Point')\n",
    "plt.grid()\n",
    "eval(test_x, test_y) "
   ]
  },
  {
   "cell_type": "code",
   "execution_count": 5,
   "id": "fe14fb48",
   "metadata": {},
   "outputs": [],
   "source": [
    "# will not work for coarser grid because of not enough presion, eg N = 10, remember to set N=100\n",
    "assert abs(eval(0.52, 0.63) - ue.subs({x: 0.52, y: 0.63}).n()) < 1e-3"
   ]
  },
  {
   "cell_type": "code",
   "execution_count": 6,
   "id": "c0090687",
   "metadata": {},
   "outputs": [
    {
     "data": {
      "text/plain": [
       "array(2.2979317e-05)"
      ]
     },
     "execution_count": 6,
     "metadata": {},
     "output_type": "execute_result"
    }
   ],
   "source": [
    "h = L/N\n",
    "h, h/2\n",
    "eval(h/2, 1-h/2)"
   ]
  },
  {
   "cell_type": "code",
   "execution_count": 7,
   "id": "d9da6816",
   "metadata": {},
   "outputs": [
    {
     "data": {
      "text/latex": [
       "$\\displaystyle 4.77413095729255 \\cdot 10^{-5}$"
      ],
      "text/plain": [
       "4.77413095729255e-5"
      ]
     },
     "execution_count": 7,
     "metadata": {},
     "output_type": "execute_result"
    }
   ],
   "source": [
    "ue.subs({x: h, y: 1-h/2}).n()"
   ]
  },
  {
   "cell_type": "code",
   "execution_count": 8,
   "id": "6b13aa29",
   "metadata": {},
   "outputs": [
    {
     "data": {
      "text/latex": [
       "$\\displaystyle 2.4761992602463 \\cdot 10^{-5}$"
      ],
      "text/plain": [
       "2.47619926024630e-5"
      ]
     },
     "execution_count": 8,
     "metadata": {},
     "output_type": "execute_result"
    }
   ],
   "source": [
    "diff = abs(eval(h/2, 1-h/2) - ue.subs({x: h, y: 1-h/2}).n())\n",
    "diff"
   ]
  },
  {
   "cell_type": "code",
   "execution_count": 9,
   "id": "87dbffd5",
   "metadata": {},
   "outputs": [],
   "source": [
    "assert abs(eval(h/2, 1-h/2) - ue.subs({x: h, y: 1-h/2}).n())"
   ]
  },
  {
   "cell_type": "code",
   "execution_count": 10,
   "id": "40991f46",
   "metadata": {},
   "outputs": [
    {
     "data": {
      "text/plain": [
       "10201"
      ]
     },
     "execution_count": 10,
     "metadata": {},
     "output_type": "execute_result"
    }
   ],
   "source": [
    "# all possible points \n",
    "points = np.column_stack((xij.ravel(), yij.ravel()))\n",
    "len(points)"
   ]
  },
  {
   "cell_type": "code",
   "execution_count": 11,
   "id": "15d2a757",
   "metadata": {},
   "outputs": [
    {
     "data": {
      "text/plain": [
       "array([[0.  , 0.  ],\n",
       "       [0.  , 0.01],\n",
       "       [0.  , 0.02],\n",
       "       ...,\n",
       "       [1.  , 0.98],\n",
       "       [1.  , 0.99],\n",
       "       [1.  , 1.  ]])"
      ]
     },
     "execution_count": 11,
     "metadata": {},
     "output_type": "execute_result"
    }
   ],
   "source": [
    "points"
   ]
  },
  {
   "cell_type": "code",
   "execution_count": 12,
   "id": "5f72530e",
   "metadata": {},
   "outputs": [
    {
     "data": {
      "text/plain": [
       "(0.0, 0.0)"
      ]
     },
     "execution_count": 12,
     "metadata": {},
     "output_type": "execute_result"
    }
   ],
   "source": [
    "points[0][0], points[0][1]"
   ]
  },
  {
   "cell_type": "code",
   "execution_count": 13,
   "id": "8031d3e1",
   "metadata": {},
   "outputs": [],
   "source": [
    "errors = np.empty(len(points))\n",
    "for i in range (0,len(points)):\n",
    "    #points[i][0] is x, and points[i][1] is y\n",
    "    errors[i] = abs(eval(points[i][0],  points[i][1]) - ue.subs({x: points[i][0], y: points[i][1]}).n()) "
   ]
  },
  {
   "cell_type": "code",
   "execution_count": 14,
   "id": "4611cc65",
   "metadata": {},
   "outputs": [
    {
     "data": {
      "text/plain": [
       "array([0., 0., 0., ..., 0., 0., 0.])"
      ]
     },
     "execution_count": 14,
     "metadata": {},
     "output_type": "execute_result"
    }
   ],
   "source": [
    "errors"
   ]
  },
  {
   "cell_type": "code",
   "execution_count": 15,
   "id": "8b4f5fc3",
   "metadata": {},
   "outputs": [
    {
     "data": {
      "text/plain": [
       "(0.0, 0.0001766659638149093)"
      ]
     },
     "execution_count": 15,
     "metadata": {},
     "output_type": "execute_result"
    }
   ],
   "source": [
    "np.min(errors), np.max(errors)"
   ]
  },
  {
   "cell_type": "code",
   "execution_count": 16,
   "id": "6b71fca3",
   "metadata": {},
   "outputs": [
    {
     "data": {
      "text/plain": [
       "DescribeResult(nobs=10201, minmax=(0.0, 0.0001766659638149093), mean=2.242496882905557e-05, variance=6.429586925773381e-10, skewness=2.5975645787772432, kurtosis=8.398150075276028)"
      ]
     },
     "execution_count": 16,
     "metadata": {},
     "output_type": "execute_result"
    }
   ],
   "source": [
    "from scipy.stats import describe\n",
    "describe(errors)"
   ]
  }
 ],
 "metadata": {
  "kernelspec": {
   "display_name": "Python 3 (ipykernel)",
   "language": "python",
   "name": "python3"
  },
  "language_info": {
   "codemirror_mode": {
    "name": "ipython",
    "version": 3
   },
   "file_extension": ".py",
   "mimetype": "text/x-python",
   "name": "python",
   "nbconvert_exporter": "python",
   "pygments_lexer": "ipython3",
   "version": "3.10.12"
  }
 },
 "nbformat": 4,
 "nbformat_minor": 5
}
