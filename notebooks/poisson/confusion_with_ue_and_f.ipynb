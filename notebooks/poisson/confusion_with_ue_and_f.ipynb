{
 "cells": [
  {
   "cell_type": "code",
   "execution_count": 1,
   "id": "02c67a8a",
   "metadata": {},
   "outputs": [],
   "source": [
    "import numpy as np\n",
    "import scipy.sparse as sparse\n",
    "import matplotlib.pyplot as plt\n",
    "import sympy as sp\n",
    "from scipy.interpolate import RegularGridInterpolator\n",
    "\n",
    "x, y = sp.symbols('x,y')"
   ]
  },
  {
   "cell_type": "code",
   "execution_count": 6,
   "id": "302b60c9",
   "metadata": {},
   "outputs": [
    {
     "data": {
      "text/latex": [
       "$\\displaystyle x y \\left(1 - x\\right) \\left(1 - y\\right) e^{\\sin{\\left(2 \\pi y \\right)} \\cos{\\left(4 \\pi x \\right)}}$"
      ],
      "text/plain": [
       "x*y*(1 - x)*(1 - y)*exp(sin(2*pi*y)*cos(4*pi*x))"
      ]
     },
     "execution_count": 6,
     "metadata": {},
     "output_type": "execute_result"
    }
   ],
   "source": [
    "#lecture 6\n",
    "ue = x*(1-x)*y*(1-y)*sp.exp(sp.cos(4*sp.pi*x)*sp.sin(2*sp.pi*y))\n",
    "ue"
   ]
  },
  {
   "cell_type": "code",
   "execution_count": 11,
   "id": "1fd1ef72",
   "metadata": {},
   "outputs": [
    {
     "data": {
      "text/latex": [
       "$\\displaystyle 2 x \\left(x - 1\\right) \\left(- 2 \\pi^{2} y \\left(y - 1\\right) \\left(\\sin{\\left(2 \\pi y \\right)} - \\cos{\\left(4 \\pi x \\right)} \\cos^{2}{\\left(2 \\pi y \\right)}\\right) \\cos{\\left(4 \\pi x \\right)} + 2 \\pi y \\cos{\\left(4 \\pi x \\right)} \\cos{\\left(2 \\pi y \\right)} + 2 \\pi \\left(y - 1\\right) \\cos{\\left(4 \\pi x \\right)} \\cos{\\left(2 \\pi y \\right)} + 1\\right) e^{\\sin{\\left(2 \\pi y \\right)} \\cos{\\left(4 \\pi x \\right)}} + 2 y \\left(y - 1\\right) \\left(8 \\pi^{2} x \\left(x - 1\\right) \\left(\\sin^{2}{\\left(4 \\pi x \\right)} \\sin{\\left(2 \\pi y \\right)} - \\cos{\\left(4 \\pi x \\right)}\\right) \\sin{\\left(2 \\pi y \\right)} - 4 \\pi x \\sin{\\left(4 \\pi x \\right)} \\sin{\\left(2 \\pi y \\right)} - 4 \\pi \\left(x - 1\\right) \\sin{\\left(4 \\pi x \\right)} \\sin{\\left(2 \\pi y \\right)} + 1\\right) e^{\\sin{\\left(2 \\pi y \\right)} \\cos{\\left(4 \\pi x \\right)}}$"
      ],
      "text/plain": [
       "2*x*(x - 1)*(-2*pi**2*y*(y - 1)*(sin(2*pi*y) - cos(4*pi*x)*cos(2*pi*y)**2)*cos(4*pi*x) + 2*pi*y*cos(4*pi*x)*cos(2*pi*y) + 2*pi*(y - 1)*cos(4*pi*x)*cos(2*pi*y) + 1)*exp(sin(2*pi*y)*cos(4*pi*x)) + 2*y*(y - 1)*(8*pi**2*x*(x - 1)*(sin(4*pi*x)**2*sin(2*pi*y) - cos(4*pi*x))*sin(2*pi*y) - 4*pi*x*sin(4*pi*x)*sin(2*pi*y) - 4*pi*(x - 1)*sin(4*pi*x)*sin(2*pi*y) + 1)*exp(sin(2*pi*y)*cos(4*pi*x))"
      ]
     },
     "execution_count": 11,
     "metadata": {},
     "output_type": "execute_result"
    }
   ],
   "source": [
    "f = ue.diff(x, 2) + ue.diff(y, 2)\n",
    "f"
   ]
  },
  {
   "cell_type": "code",
   "execution_count": 8,
   "id": "c178b8dc",
   "metadata": {},
   "outputs": [
    {
     "data": {
      "text/latex": [
       "$\\displaystyle e^{\\sin{\\left(2 \\pi y \\right)} \\cos{\\left(4 \\pi x \\right)}}$"
      ],
      "text/plain": [
       "exp(sin(2*pi*y)*cos(4*pi*x))"
      ]
     },
     "execution_count": 8,
     "metadata": {},
     "output_type": "execute_result"
    }
   ],
   "source": [
    "# obligatorisk:\n",
    "ue_o = sp.exp(sp.cos(4*sp.pi*x)*sp.sin(2*sp.pi*y))\n",
    "ue_o"
   ]
  },
  {
   "cell_type": "code",
   "execution_count": 10,
   "id": "737bbb36",
   "metadata": {},
   "outputs": [
    {
     "data": {
      "text/latex": [
       "$\\displaystyle 16 \\pi^{2} \\left(\\sin^{2}{\\left(4 \\pi x \\right)} \\sin{\\left(2 \\pi y \\right)} - \\cos{\\left(4 \\pi x \\right)}\\right) e^{\\sin{\\left(2 \\pi y \\right)} \\cos{\\left(4 \\pi x \\right)}} \\sin{\\left(2 \\pi y \\right)} + 4 \\pi^{2} \\left(- \\sin{\\left(2 \\pi y \\right)} + \\cos{\\left(4 \\pi x \\right)} \\cos^{2}{\\left(2 \\pi y \\right)}\\right) e^{\\sin{\\left(2 \\pi y \\right)} \\cos{\\left(4 \\pi x \\right)}} \\cos{\\left(4 \\pi x \\right)}$"
      ],
      "text/plain": [
       "16*pi**2*(sin(4*pi*x)**2*sin(2*pi*y) - cos(4*pi*x))*exp(sin(2*pi*y)*cos(4*pi*x))*sin(2*pi*y) + 4*pi**2*(-sin(2*pi*y) + cos(4*pi*x)*cos(2*pi*y)**2)*exp(sin(2*pi*y)*cos(4*pi*x))*cos(4*pi*x)"
      ]
     },
     "execution_count": 10,
     "metadata": {},
     "output_type": "execute_result"
    }
   ],
   "source": [
    "# obligatorisk:\n",
    "f_o = sp.diff(ue_o, x, 2)+sp.diff(ue_o, y, 2)\n",
    "f_o"
   ]
  },
  {
   "cell_type": "code",
   "execution_count": 14,
   "id": "f7591e3a",
   "metadata": {},
   "outputs": [
    {
     "data": {
      "text/latex": [
       "$\\displaystyle 2 x \\left(x - 1\\right) \\left(- 2 \\pi^{2} y \\left(y - 1\\right) \\left(\\sin{\\left(2 \\pi y \\right)} - \\cos{\\left(4 \\pi x \\right)} \\cos^{2}{\\left(2 \\pi y \\right)}\\right) \\cos{\\left(4 \\pi x \\right)} + 2 \\pi y \\cos{\\left(4 \\pi x \\right)} \\cos{\\left(2 \\pi y \\right)} + 2 \\pi \\left(y - 1\\right) \\cos{\\left(4 \\pi x \\right)} \\cos{\\left(2 \\pi y \\right)} + 1\\right) e^{\\sin{\\left(2 \\pi y \\right)} \\cos{\\left(4 \\pi x \\right)}} + 2 y \\left(y - 1\\right) \\left(8 \\pi^{2} x \\left(x - 1\\right) \\left(\\sin^{2}{\\left(4 \\pi x \\right)} \\sin{\\left(2 \\pi y \\right)} - \\cos{\\left(4 \\pi x \\right)}\\right) \\sin{\\left(2 \\pi y \\right)} - 4 \\pi x \\sin{\\left(4 \\pi x \\right)} \\sin{\\left(2 \\pi y \\right)} - 4 \\pi \\left(x - 1\\right) \\sin{\\left(4 \\pi x \\right)} \\sin{\\left(2 \\pi y \\right)} + 1\\right) e^{\\sin{\\left(2 \\pi y \\right)} \\cos{\\left(4 \\pi x \\right)}}$"
      ],
      "text/plain": [
       "2*x*(x - 1)*(-2*pi**2*y*(y - 1)*(sin(2*pi*y) - cos(4*pi*x)*cos(2*pi*y)**2)*cos(4*pi*x) + 2*pi*y*cos(4*pi*x)*cos(2*pi*y) + 2*pi*(y - 1)*cos(4*pi*x)*cos(2*pi*y) + 1)*exp(sin(2*pi*y)*cos(4*pi*x)) + 2*y*(y - 1)*(8*pi**2*x*(x - 1)*(sin(4*pi*x)**2*sin(2*pi*y) - cos(4*pi*x))*sin(2*pi*y) - 4*pi*x*sin(4*pi*x)*sin(2*pi*y) - 4*pi*(x - 1)*sin(4*pi*x)*sin(2*pi*y) + 1)*exp(sin(2*pi*y)*cos(4*pi*x))"
      ]
     },
     "execution_count": 14,
     "metadata": {},
     "output_type": "execute_result"
    }
   ],
   "source": [
    "#note that  this is same as f = ue.diff(x, 2) + ue.diff(y, 2), just different notation\n",
    "f_check = sp.diff(ue, x, 2)+sp.diff(ue, y, 2)\n",
    "f_check"
   ]
  }
 ],
 "metadata": {
  "kernelspec": {
   "display_name": "Python 3 (ipykernel)",
   "language": "python",
   "name": "python3"
  },
  "language_info": {
   "codemirror_mode": {
    "name": "ipython",
    "version": 3
   },
   "file_extension": ".py",
   "mimetype": "text/x-python",
   "name": "python",
   "nbconvert_exporter": "python",
   "pygments_lexer": "ipython3",
   "version": "3.10.12"
  }
 },
 "nbformat": 4,
 "nbformat_minor": 5
}
